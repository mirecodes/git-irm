{
 "cells": [
  {
   "cell_type": "markdown",
   "metadata": {},
   "source": [
    "# Lab02 - Coding Exercise"
   ]
  },
  {
   "cell_type": "code",
   "execution_count": 4,
   "metadata": {},
   "outputs": [],
   "source": [
    "import numpy as np\n",
    "import os\n",
    "from matplotlib import pyplot as plt\n",
    "\n",
    "from scipy.optimize import curve_fit"
   ]
  },
  {
   "attachments": {},
   "cell_type": "markdown",
   "metadata": {},
   "source": [
    "We use"
   ]
  },
  {
   "cell_type": "markdown",
   "metadata": {},
   "source": [
    "## Postlab Q2 - Sensor Noise Analysis"
   ]
  },
  {
   "attachments": {},
   "cell_type": "markdown",
   "metadata": {},
   "source": [
    "Prior to starting this exercise, make sure to already have generated three `.txt` files containing 50 datapoints each (check the lab procedures again if you haven't done this yet). We assume that all data is stored in the same directory. </br>\n",
    "\n",
    "\n",
    "*Plot* and *compare* the *average* and *standard deviation* when 1, 20, and 200 consecutive voltage values are averaged into a single data point. </br>\n",
    "**Always label your axis and specify their units.**\n",
    "\n",
    "\n",
    "Explain your observations and conclusions."
   ]
  },
  {
   "cell_type": "code",
   "execution_count": 2,
   "metadata": {},
   "outputs": [],
   "source": [
    "# Enter the path of folder where your .txt are stored\n",
    "data_dir = r\"path/to/directory/\"\n",
    "voltage_data_files = ['voltage_data_1.txt', 'voltage_data_20.txt', 'voltage_data_200.txt']"
   ]
  },
  {
   "cell_type": "markdown",
   "metadata": {},
   "source": [
    "### Explain your observations and conclusions. </br>\n",
    "___________________________________________________\n",
    "\n",
    "<font color=red> Answer here </font>\n",
    "___________________________________________________"
   ]
  },
  {
   "attachments": {},
   "cell_type": "markdown",
   "metadata": {},
   "source": [
    "## Postlab Q3 - Characterizing magnetic field decay of permanent magnet\n",
    "\n",
    "As specified in the lab document, the magnetic field $B$ at a distance $z$ along the axis of symmetry of a cylindrical magnet is expressed as follows:\n",
    "\n",
    "$$B(z) = \\frac{B_r}{2} \\left(\\frac{D+z}{\\sqrt{R^2+(D+z)^2}} - \\frac{z}{\\sqrt{R^2+z^2}}\\right)$$\n",
    "\n",
    "where $B_r$ is the remanence field at the surface of the magnet, D is the thickness of the magnet, and R is its radius.\n",
    "\n",
    "First, plot the field vs distance and then use scipy's `curve_fit` function to fit a line to the measured values. </br>\n",
    "While doing so, find the optimal $B_r$ that is used to fit the data.</br>\n",
    "Bear in mind that the hall sensor saturates at a certain field value.</br>\n",
    "Inspect whether this is the case by looking at the plot and disregard these values when fitting a curve to the data.</br>\n",
    "\n",
    "You can save a figure using the command `plt.savefig(...)`"
   ]
  },
  {
   "cell_type": "code",
   "execution_count": null,
   "metadata": {},
   "outputs": [],
   "source": [
    "# Loading data from generated .txt file\n",
    "field_path = os.path.join(data_dir, ...)\n",
    "\n",
    "data  = ... \n",
    "dist  = ...\n",
    "field = ..."
   ]
  },
  {
   "cell_type": "code",
   "execution_count": null,
   "metadata": {},
   "outputs": [],
   "source": [
    "# first plotting the collected data to inspect for unusable data points (separate plot is optional)\n",
    "plt.plot(dist, field, 'k+', label = 'Collected Data')\n",
    "plt.legend()\n",
    "\n",
    "# make sure that labels include units\n",
    "plt.xlabel(...)\n",
    "plt.ylabel(...);"
   ]
  },
  {
   "cell_type": "markdown",
   "metadata": {},
   "source": [
    "Scipy's `curve_fit` uses a non-linear least squares method to fit a function to the given data. </br>\n",
    "`curve_fit`, mainly, takes 3 mandatory arguments: the function `f` to fit, the `xdata` (the distance in our case), and the `ydata` (the measured field, for us).\n",
    "\n",
    "The function `f` defines the shape of the curve we wish to fit and must take one independent variable as the first argument and the parameters to fit as the remaining arguments. In our case the function `f` should take as argument `f(z, B_r)`. </br>\n",
    "\n",
    "\n",
    "The function can be called as `curve_fit(f, xdata, ydata)` and will return `popt`, the optimal value of the parameters to fit, and `pcov`, the estimated covariance of the fitted parameters, which is not relevant for us.\n",
    "\n",
    "You can look at the scipy documentation if you want more details on how the function works: https://docs.scipy.org/doc/scipy/reference/generated/scipy.optimize.curve_fit.html"
   ]
  },
  {
   "cell_type": "code",
   "execution_count": null,
   "metadata": {},
   "outputs": [],
   "source": [
    "D = ... # in mm\n",
    "R = ... # in mm\n",
    "\n",
    "def func(z, B_r):\n",
    "    # Define the function to fit, where B_r is the optimized parameter to be found and z is the xdata coordinate\n",
    "    f = ...\n",
    "    return B_r/2 * f"
   ]
  },
  {
   "cell_type": "code",
   "execution_count": null,
   "metadata": {
    "tags": []
   },
   "outputs": [],
   "source": [
    "# Using scipy's curve_fit function to fit data using a non-linear least sqaures method\n",
    "# provided function f(x, arg), the parameters provided after the first argument will be fit \n",
    "\n",
    "# curve_fit returns the optimal value of the parameter\n",
    "popt, ___ = curve_fit(func, dist[:], field[:])\n",
    "\n",
    "plt.plot(dist, field, 'k+', label = 'Collected Data')\n",
    "plt.plot(dist, func(dist, *popt), 'r', label=f'Fit: $B_r$={popt[0]:.2f}mT')\n",
    "plt.legend()\n",
    "\n",
    "# make sure that labels include units\n",
    "plt.xlabel(...)\n",
    "plt.ylabel(...);\n"
   ]
  }
 ],
 "metadata": {
  "kernelspec": {
   "display_name": "base",
   "language": "python",
   "name": "python3"
  },
  "language_info": {
   "codemirror_mode": {
    "name": "ipython",
    "version": 3
   },
   "file_extension": ".py",
   "mimetype": "text/x-python",
   "name": "python",
   "nbconvert_exporter": "python",
   "pygments_lexer": "ipython3",
   "version": "3.9.13"
  },
  "vscode": {
   "interpreter": {
    "hash": "9d7293b42407c4587686381bcfb1347492276afab4e632b5d7f60a904738fa3b"
   }
  }
 },
 "nbformat": 4,
 "nbformat_minor": 4
}
